{
 "cells": [
  {
   "cell_type": "markdown",
   "metadata": {},
   "source": [
    "# Tugas Eksperimen 2 DAA 2023/2024\n",
    "**Nama      : Divany Harryndira**  \n",
    "**NPM       : 2106701735**  \n",
    "**Kode Asdos: 2**"
   ]
  },
  {
   "cell_type": "markdown",
   "metadata": {},
   "source": [
    "## Persiapan Pra Eksperimen"
   ]
  },
  {
   "cell_type": "markdown",
   "metadata": {},
   "source": [
    "### Import Library"
   ]
  },
  {
   "cell_type": "code",
   "execution_count": 1,
   "metadata": {},
   "outputs": [],
   "source": [
    "import bnb\n",
    "import time\n",
    "import tracemalloc"
   ]
  },
  {
   "cell_type": "markdown",
   "metadata": {},
   "source": [
    "## Mendefinisikan Variabel dan Function Pendukung"
   ]
  },
  {
   "cell_type": "markdown",
   "metadata": {},
   "source": [
    "### Function untuk menghitung alokasi memori"
   ]
  },
  {
   "cell_type": "code",
   "execution_count": 2,
   "metadata": {},
   "outputs": [],
   "source": [
    "def sum_memory(snapshot):\n",
    "    snapshot = snapshot.filter_traces((\n",
    "        tracemalloc.Filter(False, \"<frozen importlib._bootstrap>\"),\n",
    "        tracemalloc.Filter(False, \"<unknown>\"),\n",
    "    ))\n",
    "    top_stats = snapshot.statistics('lineno')\n",
    "    total = sum(stat.size for stat in top_stats)\n",
    "    print(\"Total allocated size: %.1f KiB\" % (total / 1024))\n",
    "\n",
    "def memory_diff(snapshot1, snapshot2):\n",
    "    snapshot2 = snapshot2.filter_traces((\n",
    "        tracemalloc.Filter(False, \"<frozen importlib._bootstrap>\"),\n",
    "        tracemalloc.Filter(False, \"<unknown>\"),\n",
    "    ))\n",
    "    top_stats = snapshot2.compare_to(snapshot1, 'lineno')\n",
    "    total = sum(stat.size for stat in top_stats)\n",
    "    print(\"Total allocated size: %.1f KiB\" % (total / 1024))"
   ]
  },
  {
   "cell_type": "markdown",
   "metadata": {},
   "source": [
    "### Function untuk membuka file"
   ]
  },
  {
   "cell_type": "code",
   "execution_count": 3,
   "metadata": {},
   "outputs": [],
   "source": [
    "def open_file(filename):\n",
    "    tree = {}\n",
    "    with open(filename, 'r') as file:\n",
    "        for line in file:\n",
    "            line_new = line.split(': ')\n",
    "            child = list(map(int, line_new[1].split()))\n",
    "            tree[int(line_new[0])] = child\n",
    "    return tree"
   ]
  },
  {
   "cell_type": "markdown",
   "metadata": {},
   "source": [
    "### Initialize Variabel"
   ]
  },
  {
   "cell_type": "code",
   "execution_count": 4,
   "metadata": {},
   "outputs": [],
   "source": [
    "YES = 1\n",
    "NO = 0\n",
    "MAYBE = 2\n",
    "files_dp = ['Data/vertex_10k.txt', 'Data/vertex_100k.txt', 'Data/vertex_1m.txt']\n",
    "files_bnb = ['Data/vertex_10k_bnb.txt', 'Data/vertex_100k_bnb.txt', 'Data/vertex_1m_bnb.txt']"
   ]
  },
  {
   "cell_type": "markdown",
   "metadata": {},
   "source": [
    "### Mendefinisikan Function yang digunakan untuk Dynamic Programming"
   ]
  },
  {
   "cell_type": "code",
   "execution_count": 5,
   "metadata": {},
   "outputs": [],
   "source": [
    "def sum_child(children, status, tree, vc):\n",
    "    return_set = set()\n",
    "    for child in children:\n",
    "        var = vertex_cover(child, tree, vc)\n",
    "        return_set = return_set.union(vc[child][status])\n",
    "    return return_set\n",
    "\n",
    "def vertex_cover(node, tree, vc):\n",
    "\n",
    "    if len(vc[node][MAYBE]) != 0:\n",
    "        return vc[node][MAYBE]\n",
    "    \n",
    "    vc[node][YES] = {node}.union(sum_child(tree[node], MAYBE, tree, vc)) \n",
    "    vc[node][NO] = sum_child(tree[node], YES, tree, vc)\n",
    "\n",
    "    if len(vc[node][YES]) < len(vc[node][NO]):\n",
    "        vc[node][MAYBE] = vc[node][YES]\n",
    "    else:\n",
    "        vc[node][MAYBE] = vc[node][NO]\n",
    "\n",
    "    return vc[node][MAYBE]"
   ]
  },
  {
   "cell_type": "markdown",
   "metadata": {},
   "source": [
    "### Eksperimen Dynamic Programming"
   ]
  },
  {
   "cell_type": "markdown",
   "metadata": {},
   "source": [
    "**10^4 Vertex DP**"
   ]
  },
  {
   "cell_type": "code",
   "execution_count": 12,
   "metadata": {},
   "outputs": [
    {
     "name": "stdout",
     "output_type": "stream",
     "text": [
      "The time of execution of above program is : 357.1360111236572 ms\n",
      "\n",
      "Total allocated size: 11742.1 KiB\n",
      "Jumlah Vertex Cover:  389\n",
      "Hasil Vertex Cover:\n",
      "{0, 1, 6145, 4, 1029, 7175, 2061, 18, 3091, 4118, 5142, 9238, 1051, 8219, 6174, 31, 7199, 4131, 2043, 3114, 5167, 4144, 52, 9270, 1082, 9274, 2109, 5184, 5193, 7241, 8267, 6221, 3154, 90, 1114, 8288, 2145, 4193, 8294, 9322, 6256, 7280, 5236, 3190, 9335, 9341, 1151, 4225, 2178, 2179, 2181, 135, 6283, 2194, 8338, 9363, 1173, 7317, 6294, 4247, 2200, 9369, 7325, 5280, 5283, 3240, 169, 5296, 2226, 8370, 5300, 4279, 7351, 8380, 190, 1221, 4303, 8402, 6358, 6359, 3288, 6360, 4313, 5338, 3292, 7166, 7390, 1247, 9440, 9441, 2274, 9442, 8421, 3303, 5354, 238, 3311, 8431, 2289, 7411, 1271, 5368, 4345, 6392, 2300, 9468, 9469, 9470, 3328, 5386, 2316, 5390, 3349, 4379, 6428, 7452, 9499, 1312, 3366, 7462, 9514, 5419, 2350, 2355, 8499, 8500, 314, 6458, 316, 1340, 5438, 315, 9541, 2374, 7496, 4426, 8522, 5455, 4438, 3415, 7512, 1374, 2398, 6498, 7525, 1383, 362, 3435, 2412, 8556, 6511, 2422, 9590, 6520, 3449, 4473, 5498, 1405, 389, 4490, 8586, 2444, 399, 8591, 4498, 7570, 1434, 1435, 1436, 5536, 6560, 3490, 9633, 3497, 428, 2478, 7599, 5555, 9654, 1464, 4536, 8638, 2500, 6601, 462, 1488, 3536, 4567, 2523, 4571, 7648, 5601, 2530, 483, 5606, 8679, 7657, 3568, 1522, 6646, 9719, 9720, 8707, 3592, 4619, 2572, 525, 5643, 3597, 7702, 8726, 7704, 7703, 1570, 6690, 2595, 3622, 4646, 5672, 9771, 2604, 9772, 558, 4653, 9773, 9780, 2613, 6711, 2624, 8771, 5701, 7752, 1611, 9803, 3662, 6741, 3672, 601, 4698, 8801, 5731, 3690, 7787, 2671, 9840, 1653, 6774, 9847, 7802, 9852, 4736, 2689, 1666, 5763, 9863, 652, 8844, 653, 7822, 3727, 1690, 5787, 2718, 6824, 3753, 5803, 9899, 4786, 7861, 1721, 699, 8891, 2748, 7870, 8897, 4812, 5839, 3792, 721, 5840, 6864, 723, 722, 726, 729, 7897, 2778, 9948, 8926, 2789, 4839, 1770, 9968, 758, 3832, 2809, 764, 6908, 5885, 8957, 1791, 7936, 771, 8964, 4873, 1802, 3860, 5910, 7962, 8986, 2845, 4895, 1824, 2852, 6950, 1834, 4909, 815, 5941, 3894, 1850, 7995, 831, 2881, 835, 2884, 9031, 3912, 2895, 4946, 6994, 1877, 855, 5976, 7000, 8025, 8026, 8027, 1888, 9063, 3952, 9075, 2932, 1909, 8055, 7032, 6014, 2944, 4992, 7040, 899, 1923, 3970, 9089, 9103, 6038, 2968, 8089, 4003, 7075, 2982, 5035, 940, 8109, 1971, 9143, 6074, 6075, 3014, 975, 7120, 4051, 981, 3029, 5079, 2011, 6110, 8159, 6116, 3045, 9188, 7142, 6119, 2027, 8175, 2032, 5111, 8187, 4094}\n"
     ]
    }
   ],
   "source": [
    "# Mendefinisikan matriks untuk dynamic programming\n",
    "vc_10k = [[set()]*3 for i in range(11000)]\n",
    "tree_10k = open_file(files_dp[0])\n",
    "\n",
    "tracemalloc.start()\n",
    "start = time.time()\n",
    "minimum = vertex_cover(0, tree_10k, vc_10k)\n",
    "end = time.time()\n",
    "snapshot = tracemalloc.take_snapshot()\n",
    "print(\"The time of execution of above program is :\",\n",
    "      (end-start) * 10**3, \"ms\\n\")\n",
    "sum_memory(snapshot)\n",
    "\n",
    "print('Jumlah Vertex Cover: ', len(minimum))\n",
    "print('Hasil Vertex Cover:')\n",
    "print(minimum)"
   ]
  },
  {
   "cell_type": "markdown",
   "metadata": {},
   "source": [
    "**10^5 Vertex DP**"
   ]
  },
  {
   "cell_type": "code",
   "execution_count": 13,
   "metadata": {},
   "outputs": [
    {
     "name": "stdout",
     "output_type": "stream",
     "text": [
      "The time of execution of above program is : 4452.6426792144775 ms\n",
      "\n",
      "Total allocated size: 92211.4 KiB\n",
      "Jumlah Vertex Cover:  411\n",
      "Hasil Vertex Cover:\n",
      "{0, 1, 41988, 46085, 80904, 41993, 99339, 71694, 70671, 5138, 65554, 11283, 69651, 94227, 63510, 47128, 57370, 58394, 91162, 1056, 66597, 96296, 27692, 23599, 8241, 75830, 54327, 87095, 85049, 65594, 45116, 29759, 98371, 2120, 88144, 84049, 92243, 14422, 47194, 52314, 67674, 21597, 71781, 68711, 61544, 12396, 95340, 72818, 51320, 30856, 13460, 83097, 84122, 35995, 48283, 55453, 6303, 33954, 39076, 68772, 83112, 24751, 68783, 41140, 10421, 93366, 79032, 98489, 94393, 27835, 31935, 4293, 75974, 28871, 90312, 8397, 26831, 27855, 37078, 26839, 63705, 16603, 27870, 95461, 89318, 82151, 9448, 25832, 73964, 17648, 49392, 28914, 85237, 60662, 25847, 35063, 70905, 98554, 38139, 62718, 20735, 53503, 91391, 5379, 97543, 66824, 29961, 57610, 28939, 86282, 54543, 21780, 22805, 65814, 58647, 78102, 70937, 79131, 95515, 27935, 40223, 37155, 69923, 1317, 90403, 75045, 17703, 23850, 14638, 18743, 10554, 81211, 83261, 33086, 43326, 5441, 15687, 44359, 84296, 90449, 45400, 40282, 77149, 17758, 36195, 64867, 98670, 99696, 7540, 48505, 19840, 99715, 72069, 29064, 60808, 41353, 61835, 67979, 94604, 11662, 43407, 22928, 1427, 89492, 27029, 40342, 52630, 58774, 80278, 59800, 85401, 60831, 73121, 31138, 420, 47532, 96689, 8632, 83385, 92614, 75208, 59850, 54731, 80334, 43473, 45526, 25049, 79321, 42458, 46554, 70106, 56802, 78310, 3561, 74217, 4587, 41454, 51695, 43504, 82416, 93680, 69110, 70135, 50680, 50681, 35322, 50682, 93691, 62977, 29189, 88582, 26120, 9737, 13838, 84495, 90641, 66066, 72214, 79388, 543, 76319, 2597, 32297, 87595, 71218, 64057, 72249, 85561, 7749, 22086, 25158, 12874, 58956, 16974, 81487, 27217, 20050, 34385, 84989, 34389, 19033, 92766, 37475, 39525, 67180, 49773, 92782, 24175, 48752, 57968, 91762, 21108, 42615, 26232, 86648, 55929, 80507, 54265, 6782, 76416, 12931, 61060, 14982, 6793, 70289, 8857, 51866, 21147, 45724, 69278, 16034, 46754, 72356, 44709, 76453, 83621, 41640, 681, 40617, 62121, 2734, 75439, 11956, 30389, 18104, 97979, 74428, 99003, 33475, 708, 49860, 32454, 23243, 66252, 28368, 95956, 49877, 38614, 17112, 65242, 50909, 36575, 40671, 78559, 5861, 73445, 53997, 29426, 1781, 10998, 9975, 2808, 87798, 47868, 16130, 68354, 73479, 77577, 13066, 76555, 80652, 68366, 48913, 76568, 85788, 97054, 53024, 36645, 2855, 62249, 65324, 95020, 54065, 19250, 60210, 65331, 14137, 10045, 89917, 8001, 22337, 98120, 25419, 10063, 72529, 39762, 71506, 20312, 27482, 73567, 79712, 2914, 17250, 39781, 55145, 24428, 30572, 62320, 35697, 93040, 29556, 26487, 9082, 78716, 9087, 82816, 31617, 28546, 4995, 40837, 32650, 63373, 3983, 86927, 12179, 32662, 12185, 86946, 43943, 76712, 18348, 51116, 7087, 33711, 96176, 87990, 70587, 89032, 74699, 4044, 15310, 81871, 6096, 69585, 34770, 94161, 37843, 42964, 57300, 85973, 50139, 59357, 64486, 96233, 77806, 19441, 79857, 24566, 56311, 91129, 3069}\n"
     ]
    }
   ],
   "source": [
    "# Mendefinisikan matriks untuk dynamic programming\n",
    "vc_100k = [[set()]*3 for i in range(101000)]\n",
    "tree_100k = open_file(files_dp[1])\n",
    "\n",
    "tracemalloc.start()\n",
    "start = time.time()\n",
    "minimum = vertex_cover(0, tree_100k, vc_100k)\n",
    "end = time.time()\n",
    "snapshot = tracemalloc.take_snapshot()\n",
    "print(\"The time of execution of above program is :\",\n",
    "      (end-start) * 10**3, \"ms\\n\")\n",
    "sum_memory(snapshot)\n",
    "\n",
    "print('Jumlah Vertex Cover: ', len(minimum))\n",
    "print('Hasil Vertex Cover:')\n",
    "print(minimum)"
   ]
  },
  {
   "cell_type": "markdown",
   "metadata": {},
   "source": [
    "**10^6 Vertex DP**"
   ]
  },
  {
   "cell_type": "code",
   "execution_count": 15,
   "metadata": {},
   "outputs": [
    {
     "name": "stdout",
     "output_type": "stream",
     "text": [
      "The time of execution of above program is : 68750.70571899414 ms\n",
      "\n",
      "Total allocated size: 1272549.9 KiB\n",
      "Jumlah Vertex Cover:  489\n",
      "Hasil Vertex Cover:\n",
      "{0, 1, 14339, 637956, 743428, 793604, 566279, 954374, 813064, 94218, 228363, 750606, 333839, 648208, 457746, 71700, 158744, 222233, 450586, 922650, 903199, 509987, 642083, 888867, 775205, 233513, 822314, 270382, 687153, 478259, 353333, 326710, 213047, 659510, 560187, 837694, 373824, 285763, 841796, 118854, 5193, 960585, 383053, 712781, 803917, 930893, 816206, 438356, 543828, 432214, 53339, 598108, 950364, 692217, 431205, 174182, 386151, 184424, 778343, 191593, 29804, 272495, 878703, 643187, 303220, 778355, 303221, 306294, 524406, 829558, 665719, 780407, 17532, 620666, 582781, 298111, 277633, 513154, 652423, 574600, 831623, 465034, 731272, 267407, 306321, 933016, 744601, 127131, 293019, 485533, 577693, 415904, 86177, 234658, 953512, 75947, 389295, 624815, 493749, 131255, 689336, 190649, 899256, 284858, 306364, 127165, 977085, 84159, 265407, 552128, 470210, 870594, 942274, 966852, 330950, 217287, 964807, 537800, 266441, 541897, 456908, 525516, 715980, 734412, 517327, 511187, 816339, 224481, 132333, 31985, 924917, 921848, 828668, 414974, 461055, 61696, 200960, 234752, 343299, 979204, 130309, 149766, 429319, 187660, 826636, 708877, 526606, 862477, 263440, 833809, 648469, 782613, 843031, 89368, 151832, 937241, 349470, 80159, 727328, 155937, 10530, 684321, 27939, 374050, 645410, 786724, 600360, 322858, 55596, 175404, 289068, 807212, 1328, 444718, 846127, 590128, 185650, 440628, 522550, 143679, 628035, 81220, 315716, 209227, 179532, 675150, 137551, 67925, 306521, 917850, 415068, 758113, 850273, 813411, 255332, 928100, 249191, 988520, 147818, 169323, 538988, 122222, 640366, 849262, 633200, 741746, 886133, 700792, 535934, 754049, 76162, 42371, 982402, 233860, 920967, 85386, 387466, 107916, 261516, 323983, 928146, 185750, 154012, 592288, 14764, 586159, 600496, 425394, 275891, 20918, 564663, 759229, 443839, 172481, 882113, 382403, 800200, 488905, 197069, 85454, 997838, 382415, 25041, 605647, 871888, 164308, 818644, 240086, 461270, 518614, 404952, 704983, 390618, 555481, 94691, 127460, 468452, 968166, 412135, 176616, 750055, 434669, 661997, 409071, 737774, 679411, 790006, 282104, 195065, 503295, 75264, 966144, 419330, 330243, 35335, 207372, 557581, 110097, 8725, 497176, 892440, 764442, 288283, 964129, 802338, 504355, 196132, 393765, 100902, 820773, 917029, 262698, 341546, 380458, 934442, 355886, 603698, 138803, 520755, 330294, 894518, 352824, 395832, 565835, 861771, 906828, 531025, 319067, 282208, 178785, 619107, 97892, 337509, 38502, 286315, 280172, 525935, 723567, 606834, 309877, 657013, 414326, 361090, 152198, 381580, 731788, 940684, 448142, 765582, 92818, 808594, 769685, 734870, 757402, 591518, 859807, 551586, 957092, 950952, 767658, 411307, 868012, 572077, 984748, 475828, 695990, 726711, 257720, 907959, 698042, 841403, 337597, 253632, 895680, 231107, 850627, 60101, 675526, 944839, 345801, 417482, 29394, 914130, 836307, 492245, 204507, 63198, 482019, 610023, 991976, 402156, 347885, 383725, 612076, 242420, 615157, 223991, 116481, 472836, 299782, 687879, 772872, 571147, 205580, 103181, 375564, 161550, 702229, 915222, 636698, 46878, 75550, 875295, 66337, 948005, 953125, 594727, 842538, 854826, 889643, 238384, 426802, 853810, 252726, 528182, 334651, 877371, 454462, 973630, 669504, 369474, 677698, 44870, 365385, 515913, 656203, 214860, 113486, 865105, 295762, 580438, 507739, 904027, 810844, 761696, 796514, 723814, 786279, 192360, 883562, 720748, 24429, 505709, 996208, 759666, 382836, 136054, 838518, 547703, 406394, 112509, 910206, 681855, 146305, 180099, 220035, 359300, 187269, 50055, 848772, 533383, 624530, 245652, 183190, 653208, 993182, 313248, 767904, 422817, 858017, 47012, 672674, 125862, 141222, 365479, 826281, 51120, 167866, 592828, 630723, 499657, 564170, 719824, 608212, 866260, 314327, 58328, 166876, 122849, 567268, 370666, 363501, 399343, 969717, 376823, 453625, 239611, 106492, 747518}\n"
     ]
    }
   ],
   "source": [
    "# Mendefinisikan matriks untuk dynamic programming\n",
    "vc_1m = [[set()]*3 for i in range(1005000)]\n",
    "tree_1m = open_file(files_dp[2])\n",
    "\n",
    "tracemalloc.start()\n",
    "start = time.time()\n",
    "minimum = vertex_cover(0, tree_1m, vc_1m)\n",
    "end = time.time()\n",
    "snapshot = tracemalloc.take_snapshot()\n",
    "print(\"The time of execution of above program is :\",\n",
    "      (end-start) * 10**3, \"ms\\n\")\n",
    "sum_memory(snapshot)\n",
    "\n",
    "print('Jumlah Vertex Cover: ', len(minimum))\n",
    "print('Hasil Vertex Cover:')\n",
    "print(minimum)"
   ]
  },
  {
   "cell_type": "markdown",
   "metadata": {},
   "source": [
    "### Eksperimen Branch and Bound"
   ]
  },
  {
   "cell_type": "markdown",
   "metadata": {},
   "source": [
    "**100 Verteks awal dari dataset 10^4 verteks**"
   ]
  },
  {
   "cell_type": "code",
   "execution_count": 5,
   "metadata": {},
   "outputs": [
    {
     "name": "stdout",
     "output_type": "stream",
     "text": [
      "No of nodes in G: 101 \n",
      "No of Edges in G: 100\n",
      "Initial UpperBound: 101\n",
      "Current Opt VC size 6\n",
      "\n",
      "Hasil vertex cover:\n",
      "31,18,1,4,52,0\n",
      "The time of execution of above program is : 71.38705253601074 ms\n",
      "\n",
      "Total allocated size: 135.7 KiB\n"
     ]
    }
   ],
   "source": [
    "tracemalloc.start()\n",
    "start = time.time()\n",
    "\n",
    "# Set cutoff time 600s\n",
    "bnb.main(files_bnb[0], 600, 10000)\n",
    "\n",
    "end = time.time()\n",
    "snapshot = tracemalloc.take_snapshot()\n",
    "print(\"The time of execution of above program is :\",\n",
    "      (end-start) * 10**3, \"ms\\n\")\n",
    "sum_memory(snapshot)"
   ]
  },
  {
   "cell_type": "markdown",
   "metadata": {},
   "source": []
  },
  {
   "cell_type": "code",
   "execution_count": 6,
   "metadata": {},
   "outputs": [
    {
     "name": "stdout",
     "output_type": "stream",
     "text": [
      "No of nodes in G: 301 \n",
      "No of Edges in G: 300\n",
      "Initial UpperBound: 301\n",
      "Current Opt VC size 1\n",
      "\n",
      "Hasil vertex cover:\n",
      "0\n",
      "The time of execution of above program is : 167.20008850097656 ms\n",
      "\n",
      "Total allocated size: 352.0 KiB\n"
     ]
    }
   ],
   "source": [
    "tracemalloc.start()\n",
    "start = time.time()\n",
    "\n",
    "# Set cutoff time 600s\n",
    "bnb.main(files_bnb[1], 600, 100000)\n",
    "\n",
    "end = time.time()\n",
    "snapshot = tracemalloc.take_snapshot()\n",
    "print(\"The time of execution of above program is :\",\n",
    "      (end-start) * 10**3, \"ms\\n\")\n",
    "sum_memory(snapshot)"
   ]
  },
  {
   "cell_type": "code",
   "execution_count": null,
   "metadata": {},
   "outputs": [],
   "source": [
    "tracemalloc.start()\n",
    "start = time.time()\n",
    "\n",
    "# Set cutoff time 600s\n",
    "bnb.main(files_bnb[2], 600, 1000000)\n",
    "\n",
    "end = time.time()\n",
    "snapshot = tracemalloc.take_snapshot()\n",
    "print(\"The time of execution of above program is :\",\n",
    "      (end-start) * 10**3, \"ms\\n\")\n",
    "sum_memory(snapshot)"
   ]
  }
 ],
 "metadata": {
  "kernelspec": {
   "display_name": "Python 3",
   "language": "python",
   "name": "python3"
  },
  "language_info": {
   "codemirror_mode": {
    "name": "ipython",
    "version": 3
   },
   "file_extension": ".py",
   "mimetype": "text/x-python",
   "name": "python",
   "nbconvert_exporter": "python",
   "pygments_lexer": "ipython3",
   "version": "3.11.5"
  }
 },
 "nbformat": 4,
 "nbformat_minor": 2
}
